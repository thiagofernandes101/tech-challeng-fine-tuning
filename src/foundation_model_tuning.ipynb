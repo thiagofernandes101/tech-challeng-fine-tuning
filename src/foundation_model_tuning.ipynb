{
 "cells": [
  {
   "cell_type": "code",
   "execution_count": null,
   "id": "606315ab",
   "metadata": {},
   "outputs": [],
   "source": [
    "## ler as propriedades title e content do arquivo trn.json para o finetuning do modelo\n",
    "import json\n",
    "import os\n",
    "import torch\n",
    "from unsloth import FastLanguageModel\n",
    "\n",
    "max_seq_length = 2048\n",
    "dtype = None\n",
    "load_in_4bit = True\n",
    "\n",
    "fourbit_models = [\n",
    "    #\"unsloth/Meta-Llama-3.1-8B-bnb-4bit\",      # Llama-3.1 15 trillion tokens model 2x faster!\n",
    "    #\"unsloth/Meta-Llama-3.1-8B-Instruct-bnb-4bit\",\n",
    "    \"unsloth/Phi-3.5-mini-instruct\",           # Phi-3.5 2x faster!\n",
    "    #\"unsloth/Phi-3-medium-4k-instruct\",\n",
    "    #\"unsloth/gemma-2-9b-bnb-4bit\"\n",
    "]\n",
    "\n",
    "model, tokenizer = FastLanguageModel.from_pretrained(\n",
    "    model_name = \"unsloth/Meta-Llama-3.1-8B\",\n",
    "    max_seq_length = max_seq_length,\n",
    "    dtype = dtype,\n",
    "    load_in_4bit = load_in_4bit,\n",
    ")\n",
    "\n",
    "def solve_relative_path(file_path: str) -> str:\n",
    "    project_root: str = os.path.dirname(os.getcwd())\n",
    "    data_path: str = os.path.abspath(os.path.join(project_root, file_path))\n",
    "    return data_path\n",
    "\n",
    "def read_json_file(file_path: str) -> list[tuple[str, str]]:\n",
    "    training_data = []\n",
    "\n",
    "    with open(file_path, \"r\") as file:\n",
    "        buffer: str = \"\" \n",
    "        for line in file:\n",
    "            buffer += line.strip()\n",
    "            try:\n",
    "                item: dict = json.loads(buffer)\n",
    "                buffer = \"\"\n",
    "                title: str = item.get(\"title\", \"\")\n",
    "                content: str = item.get(\"content\", \"\")\n",
    "                training_data.append((title, content))\n",
    "            except json.JSONDecodeError:\n",
    "                continue\n",
    "    return training_data\n",
    "\n",
    "# if __name__ == \"__main__\":\n",
    "#     file_path = solve_relative_path(\"datasets/trn.json\")\n",
    "#     training_data = read_json_file(file_path)\n",
    "#     for title, content in training_data[:10]:\n",
    "#         print(f\"Title: {title}\\nContent: {content}\\n\")"
   ]
  }
 ],
 "metadata": {
  "kernelspec": {
   "display_name": ".venv",
   "language": "python",
   "name": "python3"
  },
  "language_info": {
   "codemirror_mode": {
    "name": "ipython",
    "version": 3
   },
   "file_extension": ".py",
   "mimetype": "text/x-python",
   "name": "python",
   "nbconvert_exporter": "python",
   "pygments_lexer": "ipython3",
   "version": "3.12.3"
  }
 },
 "nbformat": 4,
 "nbformat_minor": 5
}
