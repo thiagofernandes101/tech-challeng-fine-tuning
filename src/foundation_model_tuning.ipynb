{
 "cells": [
  {
   "cell_type": "code",
   "execution_count": 2,
   "id": "606315ab",
   "metadata": {},
   "outputs": [
    {
     "name": "stdout",
     "output_type": "stream",
     "text": [
      "Title: Girls Ballet Tutu Neon Pink\n",
      "Content: High quality 3 layer ballet tutu. 12 inches in length\n",
      "\n",
      "Title: Adult Ballet Tutu Yellow\n",
      "Content: \n",
      "\n",
      "Title: The Way Things Work: An Illustrated Encyclopedia of Technology\n",
      "Content: \n",
      "\n",
      "Title: Mog's Kittens\n",
      "Content: Judith Kerr&#8217;s best&#8211;selling adventures of that endearing (and exasperating) cat Mog have entertained children for more than 30 years. Now, even infants and toddlers can enjoy meeting this loveable feline. These sturdy little board books&#8212;with their bright, simple pictures, easy text, and hand&#8211;friendly formats&#8212;are just the thing to delight the very young. Ages 6 months&#8211;2 years.\n",
      "\n",
      "Title: Misty of Chincoteague\n",
      "Content: \n",
      "\n",
      "Title: Hilda Boswell's treasury of children's stories: A new anthology of stories for the young\n",
      "Content: \n",
      "\n",
      "Title: The Simple Truths of Service: Inspired by Johnny the Bagger\n",
      "Content: \n",
      "\n",
      "Title: Girls Ballet Tutu Neon Blue\n",
      "Content: Dance tutu for girls ages 2-8 years. Perfect for dance practice, recitals and performances, costumes or just for fun!\n",
      "\n",
      "Title: Evaluating Research in Academic Journals - A Practical Guide to Realistic Evaluation (5th Fifth Edition) - By Fred Pyrczak\n",
      "Content: \n",
      "\n",
      "Title: Dr. Seuss ABC (Dr.Seuss Classic Collection) (Spanish Edition)\n",
      "Content: \n",
      "\n"
     ]
    }
   ],
   "source": [
    "## ler as propriedades title e content do arquivo trn.json para o finetuning do modelo\n",
    "import json\n",
    "import os\n",
    "\n",
    "def solve_relative_path(file_path: str) -> str:\n",
    "    project_root: str = os.path.dirname(os.getcwd())\n",
    "    data_path: str = os.path.abspath(os.path.join(project_root, file_path))\n",
    "    return data_path\n",
    "\n",
    "def read_json_file(file_path: str) -> list[tuple[str, str]]:\n",
    "    training_data = []\n",
    "\n",
    "    with open(file_path, \"r\") as file:\n",
    "        buffer: str = \"\" \n",
    "        for line in file:\n",
    "            buffer += line.strip()\n",
    "            try:\n",
    "                item: dict = json.loads(buffer)\n",
    "                buffer = \"\"\n",
    "                title: str = item.get(\"title\", \"\")\n",
    "                content: str = item.get(\"content\", \"\")\n",
    "                training_data.append((title, content))\n",
    "            except json.JSONDecodeError:\n",
    "                continue\n",
    "    return training_data\n",
    "\n",
    "if __name__ == \"__main__\":\n",
    "    file_path = solve_relative_path(\"datasets/trn.json\")\n",
    "    training_data = read_json_file(file_path)\n",
    "    for title, content in training_data[:10]:\n",
    "        print(f\"Title: {title}\\nContent: {content}\\n\")"
   ]
  },
  {
   "cell_type": "markdown",
   "id": "8c02f0fc",
   "metadata": {},
   "source": [
    "- Alguns valores de content estão vazios\n",
    "- Alguns valores de content possuem hash de caracteres especiais. Exemplo: Judith Kerr&#8217;s best&#8211;selling\n",
    "- Alguns valores de content estão da forma esperada"
   ]
  }
 ],
 "metadata": {
  "kernelspec": {
   "display_name": ".venv",
   "language": "python",
   "name": "python3"
  },
  "language_info": {
   "codemirror_mode": {
    "name": "ipython",
    "version": 3
   },
   "file_extension": ".py",
   "mimetype": "text/x-python",
   "name": "python",
   "nbconvert_exporter": "python",
   "pygments_lexer": "ipython3",
   "version": "3.12.3"
  }
 },
 "nbformat": 4,
 "nbformat_minor": 5
}
